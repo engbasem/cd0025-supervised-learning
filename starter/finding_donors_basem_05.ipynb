{
  "cells": [
    {
      "cell_type": "markdown",
      "metadata": {
        "id": "BrAjuovgyb_Q"
      },
      "source": [
        "# Data Scientist Nanodegree\n",
        "## Supervised Learning\n",
        "## Project: Finding Donors for *CharityML*"
      ]
    },
    {
      "cell_type": "markdown",
      "metadata": {
        "id": "3TwBLvmJyb_X"
      },
      "source": [
        "Welcome to the first project of the Data Scientist Nanodegree! In this notebook, some template code has already been provided for you, and it will be your job to implement the additional functionality necessary to successfully complete this project. Sections that begin with **'Implementation'** in the header indicate that the following block of code will require additional functionality which you must provide. Instructions will be provided for each section and the specifics of the implementation are marked in the code block with a `'TODO'` statement. Please be sure to read the instructions carefully!\n",
        "\n",
        "In addition to implementing code, there will be questions that you must answer which relate to the project and your implementation. Each section where you will answer a question is preceded by a **'Question X'** header. Carefully read each question and provide thorough answers in the following text boxes that begin with **'Answer:'**. Your project submission will be evaluated based on your answers to each of the questions and the implementation you provide.  \n",
        "\n",
        ">**Note:** Please specify WHICH VERSION OF PYTHON you are using when submitting this notebook. Code and Markdown cells can be executed using the **Shift + Enter** keyboard shortcut. In addition, Markdown cells can be edited by typically double-clicking the cell to enter edit mode."
      ]
    },
    {
      "cell_type": "markdown",
      "metadata": {
        "id": "kBl1gZGByb_Y"
      },
      "source": [
        "## Getting Started\n",
        "\n",
        "In this project, you will employ several supervised algorithms of your choice to accurately model individuals' income using data collected from the 1994 U.S. Census. You will then choose the best candidate algorithm from preliminary results and further optimize this algorithm to best model the data. Your goal with this implementation is to construct a model that accurately predicts whether an individual makes more than $50,000. This sort of task can arise in a non-profit setting, where organizations survive on donations.  Understanding an individual's income can help a non-profit better understand how large of a donation to request, or whether or not they should reach out to begin with.  While it can be difficult to determine an individual's general income bracket directly from public sources, we can (as we will see) infer this value from other publically available features. \n",
        "\n",
        "The dataset for this project originates from the [UCI Machine Learning Repository](https://archive.ics.uci.edu/ml/datasets/Census+Income). The datset was donated by Ron Kohavi and Barry Becker, after being published in the article _\"Scaling Up the Accuracy of Naive-Bayes Classifiers: A Decision-Tree Hybrid\"_. You can find the article by Ron Kohavi [online](https://www.aaai.org/Papers/KDD/1996/KDD96-033.pdf). The data we investigate here consists of small changes to the original dataset, such as removing the `'fnlwgt'` feature and records with missing or ill-formatted entries."
      ]
    },
    {
      "cell_type": "markdown",
      "metadata": {
        "id": "6HQVuASxyb_Z"
      },
      "source": [
        "----\n",
        "## Exploring the Data\n",
        "Run the code cell below to load necessary Python libraries and load the census data. Note that the last column from this dataset, `'income'`, will be our target label (whether an individual makes more than, or at most, $50,000 annually). All other columns are features about each individual in the census database."
      ]
    },
    {
      "cell_type": "code",
      "execution_count": 1,
      "metadata": {
        "colab": {
          "base_uri": "https://localhost:8080/",
          "height": 757
        },
        "id": "eGnSGqdhyb_Z",
        "outputId": "fe0b9e83-54fe-42a5-bc00-3ad2ac6f8f8b"
      },
      "outputs": [
        {
          "output_type": "display_data",
          "data": {
            "text/plain": [
              "   age          workclass education_level  education-num  \\\n",
              "0   39          State-gov       Bachelors           13.0   \n",
              "1   50   Self-emp-not-inc       Bachelors           13.0   \n",
              "2   38            Private         HS-grad            9.0   \n",
              "3   53            Private            11th            7.0   \n",
              "4   28            Private       Bachelors           13.0   \n",
              "5   37            Private         Masters           14.0   \n",
              "6   49            Private             9th            5.0   \n",
              "7   52   Self-emp-not-inc         HS-grad            9.0   \n",
              "8   31            Private         Masters           14.0   \n",
              "9   42            Private       Bachelors           13.0   \n",
              "\n",
              "           marital-status          occupation    relationship    race  \\\n",
              "0           Never-married        Adm-clerical   Not-in-family   White   \n",
              "1      Married-civ-spouse     Exec-managerial         Husband   White   \n",
              "2                Divorced   Handlers-cleaners   Not-in-family   White   \n",
              "3      Married-civ-spouse   Handlers-cleaners         Husband   Black   \n",
              "4      Married-civ-spouse      Prof-specialty            Wife   Black   \n",
              "5      Married-civ-spouse     Exec-managerial            Wife   White   \n",
              "6   Married-spouse-absent       Other-service   Not-in-family   Black   \n",
              "7      Married-civ-spouse     Exec-managerial         Husband   White   \n",
              "8           Never-married      Prof-specialty   Not-in-family   White   \n",
              "9      Married-civ-spouse     Exec-managerial         Husband   White   \n",
              "\n",
              "       sex  capital-gain  capital-loss  hours-per-week  native-country income  \n",
              "0     Male        2174.0           0.0            40.0   United-States  <=50K  \n",
              "1     Male           0.0           0.0            13.0   United-States  <=50K  \n",
              "2     Male           0.0           0.0            40.0   United-States  <=50K  \n",
              "3     Male           0.0           0.0            40.0   United-States  <=50K  \n",
              "4   Female           0.0           0.0            40.0            Cuba  <=50K  \n",
              "5   Female           0.0           0.0            40.0   United-States  <=50K  \n",
              "6   Female           0.0           0.0            16.0         Jamaica  <=50K  \n",
              "7     Male           0.0           0.0            45.0   United-States   >50K  \n",
              "8   Female       14084.0           0.0            50.0   United-States   >50K  \n",
              "9     Male        5178.0           0.0            40.0   United-States   >50K  "
            ],
            "text/html": [
              "\n",
              "  <div id=\"df-f9aa05d6-9835-42ec-ab1f-9a1a59ac7877\">\n",
              "    <div class=\"colab-df-container\">\n",
              "      <div>\n",
              "<style scoped>\n",
              "    .dataframe tbody tr th:only-of-type {\n",
              "        vertical-align: middle;\n",
              "    }\n",
              "\n",
              "    .dataframe tbody tr th {\n",
              "        vertical-align: top;\n",
              "    }\n",
              "\n",
              "    .dataframe thead th {\n",
              "        text-align: right;\n",
              "    }\n",
              "</style>\n",
              "<table border=\"1\" class=\"dataframe\">\n",
              "  <thead>\n",
              "    <tr style=\"text-align: right;\">\n",
              "      <th></th>\n",
              "      <th>age</th>\n",
              "      <th>workclass</th>\n",
              "      <th>education_level</th>\n",
              "      <th>education-num</th>\n",
              "      <th>marital-status</th>\n",
              "      <th>occupation</th>\n",
              "      <th>relationship</th>\n",
              "      <th>race</th>\n",
              "      <th>sex</th>\n",
              "      <th>capital-gain</th>\n",
              "      <th>capital-loss</th>\n",
              "      <th>hours-per-week</th>\n",
              "      <th>native-country</th>\n",
              "      <th>income</th>\n",
              "    </tr>\n",
              "  </thead>\n",
              "  <tbody>\n",
              "    <tr>\n",
              "      <th>0</th>\n",
              "      <td>39</td>\n",
              "      <td>State-gov</td>\n",
              "      <td>Bachelors</td>\n",
              "      <td>13.0</td>\n",
              "      <td>Never-married</td>\n",
              "      <td>Adm-clerical</td>\n",
              "      <td>Not-in-family</td>\n",
              "      <td>White</td>\n",
              "      <td>Male</td>\n",
              "      <td>2174.0</td>\n",
              "      <td>0.0</td>\n",
              "      <td>40.0</td>\n",
              "      <td>United-States</td>\n",
              "      <td>&lt;=50K</td>\n",
              "    </tr>\n",
              "    <tr>\n",
              "      <th>1</th>\n",
              "      <td>50</td>\n",
              "      <td>Self-emp-not-inc</td>\n",
              "      <td>Bachelors</td>\n",
              "      <td>13.0</td>\n",
              "      <td>Married-civ-spouse</td>\n",
              "      <td>Exec-managerial</td>\n",
              "      <td>Husband</td>\n",
              "      <td>White</td>\n",
              "      <td>Male</td>\n",
              "      <td>0.0</td>\n",
              "      <td>0.0</td>\n",
              "      <td>13.0</td>\n",
              "      <td>United-States</td>\n",
              "      <td>&lt;=50K</td>\n",
              "    </tr>\n",
              "    <tr>\n",
              "      <th>2</th>\n",
              "      <td>38</td>\n",
              "      <td>Private</td>\n",
              "      <td>HS-grad</td>\n",
              "      <td>9.0</td>\n",
              "      <td>Divorced</td>\n",
              "      <td>Handlers-cleaners</td>\n",
              "      <td>Not-in-family</td>\n",
              "      <td>White</td>\n",
              "      <td>Male</td>\n",
              "      <td>0.0</td>\n",
              "      <td>0.0</td>\n",
              "      <td>40.0</td>\n",
              "      <td>United-States</td>\n",
              "      <td>&lt;=50K</td>\n",
              "    </tr>\n",
              "    <tr>\n",
              "      <th>3</th>\n",
              "      <td>53</td>\n",
              "      <td>Private</td>\n",
              "      <td>11th</td>\n",
              "      <td>7.0</td>\n",
              "      <td>Married-civ-spouse</td>\n",
              "      <td>Handlers-cleaners</td>\n",
              "      <td>Husband</td>\n",
              "      <td>Black</td>\n",
              "      <td>Male</td>\n",
              "      <td>0.0</td>\n",
              "      <td>0.0</td>\n",
              "      <td>40.0</td>\n",
              "      <td>United-States</td>\n",
              "      <td>&lt;=50K</td>\n",
              "    </tr>\n",
              "    <tr>\n",
              "      <th>4</th>\n",
              "      <td>28</td>\n",
              "      <td>Private</td>\n",
              "      <td>Bachelors</td>\n",
              "      <td>13.0</td>\n",
              "      <td>Married-civ-spouse</td>\n",
              "      <td>Prof-specialty</td>\n",
              "      <td>Wife</td>\n",
              "      <td>Black</td>\n",
              "      <td>Female</td>\n",
              "      <td>0.0</td>\n",
              "      <td>0.0</td>\n",
              "      <td>40.0</td>\n",
              "      <td>Cuba</td>\n",
              "      <td>&lt;=50K</td>\n",
              "    </tr>\n",
              "    <tr>\n",
              "      <th>5</th>\n",
              "      <td>37</td>\n",
              "      <td>Private</td>\n",
              "      <td>Masters</td>\n",
              "      <td>14.0</td>\n",
              "      <td>Married-civ-spouse</td>\n",
              "      <td>Exec-managerial</td>\n",
              "      <td>Wife</td>\n",
              "      <td>White</td>\n",
              "      <td>Female</td>\n",
              "      <td>0.0</td>\n",
              "      <td>0.0</td>\n",
              "      <td>40.0</td>\n",
              "      <td>United-States</td>\n",
              "      <td>&lt;=50K</td>\n",
              "    </tr>\n",
              "    <tr>\n",
              "      <th>6</th>\n",
              "      <td>49</td>\n",
              "      <td>Private</td>\n",
              "      <td>9th</td>\n",
              "      <td>5.0</td>\n",
              "      <td>Married-spouse-absent</td>\n",
              "      <td>Other-service</td>\n",
              "      <td>Not-in-family</td>\n",
              "      <td>Black</td>\n",
              "      <td>Female</td>\n",
              "      <td>0.0</td>\n",
              "      <td>0.0</td>\n",
              "      <td>16.0</td>\n",
              "      <td>Jamaica</td>\n",
              "      <td>&lt;=50K</td>\n",
              "    </tr>\n",
              "    <tr>\n",
              "      <th>7</th>\n",
              "      <td>52</td>\n",
              "      <td>Self-emp-not-inc</td>\n",
              "      <td>HS-grad</td>\n",
              "      <td>9.0</td>\n",
              "      <td>Married-civ-spouse</td>\n",
              "      <td>Exec-managerial</td>\n",
              "      <td>Husband</td>\n",
              "      <td>White</td>\n",
              "      <td>Male</td>\n",
              "      <td>0.0</td>\n",
              "      <td>0.0</td>\n",
              "      <td>45.0</td>\n",
              "      <td>United-States</td>\n",
              "      <td>&gt;50K</td>\n",
              "    </tr>\n",
              "    <tr>\n",
              "      <th>8</th>\n",
              "      <td>31</td>\n",
              "      <td>Private</td>\n",
              "      <td>Masters</td>\n",
              "      <td>14.0</td>\n",
              "      <td>Never-married</td>\n",
              "      <td>Prof-specialty</td>\n",
              "      <td>Not-in-family</td>\n",
              "      <td>White</td>\n",
              "      <td>Female</td>\n",
              "      <td>14084.0</td>\n",
              "      <td>0.0</td>\n",
              "      <td>50.0</td>\n",
              "      <td>United-States</td>\n",
              "      <td>&gt;50K</td>\n",
              "    </tr>\n",
              "    <tr>\n",
              "      <th>9</th>\n",
              "      <td>42</td>\n",
              "      <td>Private</td>\n",
              "      <td>Bachelors</td>\n",
              "      <td>13.0</td>\n",
              "      <td>Married-civ-spouse</td>\n",
              "      <td>Exec-managerial</td>\n",
              "      <td>Husband</td>\n",
              "      <td>White</td>\n",
              "      <td>Male</td>\n",
              "      <td>5178.0</td>\n",
              "      <td>0.0</td>\n",
              "      <td>40.0</td>\n",
              "      <td>United-States</td>\n",
              "      <td>&gt;50K</td>\n",
              "    </tr>\n",
              "  </tbody>\n",
              "</table>\n",
              "</div>\n",
              "      <button class=\"colab-df-convert\" onclick=\"convertToInteractive('df-f9aa05d6-9835-42ec-ab1f-9a1a59ac7877')\"\n",
              "              title=\"Convert this dataframe to an interactive table.\"\n",
              "              style=\"display:none;\">\n",
              "        \n",
              "  <svg xmlns=\"http://www.w3.org/2000/svg\" height=\"24px\"viewBox=\"0 0 24 24\"\n",
              "       width=\"24px\">\n",
              "    <path d=\"M0 0h24v24H0V0z\" fill=\"none\"/>\n",
              "    <path d=\"M18.56 5.44l.94 2.06.94-2.06 2.06-.94-2.06-.94-.94-2.06-.94 2.06-2.06.94zm-11 1L8.5 8.5l.94-2.06 2.06-.94-2.06-.94L8.5 2.5l-.94 2.06-2.06.94zm10 10l.94 2.06.94-2.06 2.06-.94-2.06-.94-.94-2.06-.94 2.06-2.06.94z\"/><path d=\"M17.41 7.96l-1.37-1.37c-.4-.4-.92-.59-1.43-.59-.52 0-1.04.2-1.43.59L10.3 9.45l-7.72 7.72c-.78.78-.78 2.05 0 2.83L4 21.41c.39.39.9.59 1.41.59.51 0 1.02-.2 1.41-.59l7.78-7.78 2.81-2.81c.8-.78.8-2.07 0-2.86zM5.41 20L4 18.59l7.72-7.72 1.47 1.35L5.41 20z\"/>\n",
              "  </svg>\n",
              "      </button>\n",
              "      \n",
              "  <style>\n",
              "    .colab-df-container {\n",
              "      display:flex;\n",
              "      flex-wrap:wrap;\n",
              "      gap: 12px;\n",
              "    }\n",
              "\n",
              "    .colab-df-convert {\n",
              "      background-color: #E8F0FE;\n",
              "      border: none;\n",
              "      border-radius: 50%;\n",
              "      cursor: pointer;\n",
              "      display: none;\n",
              "      fill: #1967D2;\n",
              "      height: 32px;\n",
              "      padding: 0 0 0 0;\n",
              "      width: 32px;\n",
              "    }\n",
              "\n",
              "    .colab-df-convert:hover {\n",
              "      background-color: #E2EBFA;\n",
              "      box-shadow: 0px 1px 2px rgba(60, 64, 67, 0.3), 0px 1px 3px 1px rgba(60, 64, 67, 0.15);\n",
              "      fill: #174EA6;\n",
              "    }\n",
              "\n",
              "    [theme=dark] .colab-df-convert {\n",
              "      background-color: #3B4455;\n",
              "      fill: #D2E3FC;\n",
              "    }\n",
              "\n",
              "    [theme=dark] .colab-df-convert:hover {\n",
              "      background-color: #434B5C;\n",
              "      box-shadow: 0px 1px 3px 1px rgba(0, 0, 0, 0.15);\n",
              "      filter: drop-shadow(0px 1px 2px rgba(0, 0, 0, 0.3));\n",
              "      fill: #FFFFFF;\n",
              "    }\n",
              "  </style>\n",
              "\n",
              "      <script>\n",
              "        const buttonEl =\n",
              "          document.querySelector('#df-f9aa05d6-9835-42ec-ab1f-9a1a59ac7877 button.colab-df-convert');\n",
              "        buttonEl.style.display =\n",
              "          google.colab.kernel.accessAllowed ? 'block' : 'none';\n",
              "\n",
              "        async function convertToInteractive(key) {\n",
              "          const element = document.querySelector('#df-f9aa05d6-9835-42ec-ab1f-9a1a59ac7877');\n",
              "          const dataTable =\n",
              "            await google.colab.kernel.invokeFunction('convertToInteractive',\n",
              "                                                     [key], {});\n",
              "          if (!dataTable) return;\n",
              "\n",
              "          const docLinkHtml = 'Like what you see? Visit the ' +\n",
              "            '<a target=\"_blank\" href=https://colab.research.google.com/notebooks/data_table.ipynb>data table notebook</a>'\n",
              "            + ' to learn more about interactive tables.';\n",
              "          element.innerHTML = '';\n",
              "          dataTable['output_type'] = 'display_data';\n",
              "          await google.colab.output.renderOutput(dataTable, element);\n",
              "          const docLink = document.createElement('div');\n",
              "          docLink.innerHTML = docLinkHtml;\n",
              "          element.appendChild(docLink);\n",
              "        }\n",
              "      </script>\n",
              "    </div>\n",
              "  </div>\n",
              "  "
            ]
          },
          "metadata": {}
        }
      ],
      "source": [
        "# Import libraries necessary for this project\n",
        "import numpy as np\n",
        "import pandas as pd\n",
        "from time import time\n",
        "from IPython.display import display # Allows the use of display() for DataFrames\n",
        "\n",
        "# Import supplementary visualization code visuals.py\n",
        "import visuals as vs\n",
        "\n",
        "# Pretty display for notebooks\n",
        "%matplotlib inline\n",
        "\n",
        "# Load the Census dataset\n",
        "data = pd.read_csv(\"census.csv\")\n",
        "\n",
        "# Success - Display the first record\n",
        "display(data.head(n=10))"
      ]
    },
    {
      "cell_type": "markdown",
      "metadata": {
        "id": "ITa_YGffyb_c"
      },
      "source": [
        "### Implementation: Data Exploration\n",
        "A cursory investigation of the dataset will determine how many individuals fit into either group, and will tell us about the percentage of these individuals making more than \\$50,000. In the code cell below, you will need to compute the following:\n",
        "- The total number of records, `'n_records'`\n",
        "- The number of individuals making more than \\$50,000 annually, `'n_greater_50k'`.\n",
        "- The number of individuals making at most \\$50,000 annually, `'n_at_most_50k'`.\n",
        "- The percentage of individuals making more than \\$50,000 annually, `'greater_percent'`.\n",
        "\n",
        "** HINT: ** You may need to look at the table above to understand how the `'income'` entries are formatted. "
      ]
    },
    {
      "cell_type": "code",
      "source": [
        "# TODO: Total number of records\n",
        "n_records = len(data.index)\n",
        "print(n_records)\n",
        "print(data.shape[0])"
      ],
      "metadata": {
        "colab": {
          "base_uri": "https://localhost:8080/"
        },
        "id": "CoDdBGxnCKPk",
        "outputId": "33517735-8bef-476e-dd02-d5586d5ea3b4"
      },
      "execution_count": 2,
      "outputs": [
        {
          "output_type": "stream",
          "name": "stdout",
          "text": [
            "45222\n",
            "45222\n"
          ]
        }
      ]
    },
    {
      "cell_type": "code",
      "source": [
        "# TODO: Number of records where individual's income is more than $50,000\n",
        "data['income'].hist()\n",
        "n_greater_50k = len(data[data.income == \">50K\"])\n",
        "print('Number of records where individual income is more than $50,000 is ',n_greater_50k)\n"
      ],
      "metadata": {
        "colab": {
          "base_uri": "https://localhost:8080/",
          "height": 282
        },
        "id": "wbKvIwuPCt_i",
        "outputId": "64fd6bbf-4ff0-4a78-d4c8-5d42afa6a190"
      },
      "execution_count": 3,
      "outputs": [
        {
          "output_type": "stream",
          "name": "stdout",
          "text": [
            "Number of records where individual income is more than $50,000 is  11208\n"
          ]
        },
        {
          "output_type": "display_data",
          "data": {
            "text/plain": [
              "<Figure size 432x288 with 1 Axes>"
            ],
            "image/png": "[encoded data removed]"
          },
          "metadata": {
            "needs_background": "light"
          }
        }
      ]
    },
    {
      "cell_type": "code",
      "source": [
        "# TODO: Number of records where individual's income is at most $50,000\n",
        "n_at_most_50k  = len(data[data.income == \"<=50K\"])\n",
        "print('Number of records where individual income is at most $50,000 is ',n_at_most_50k)"
      ],
      "metadata": {
        "colab": {
          "base_uri": "https://localhost:8080/"
        },
        "id": "k_dixsl_JZ8V",
        "outputId": "b779b07b-797f-4cef-a6f7-243d6dad1e42"
      },
      "execution_count": 4,
      "outputs": [
        {
          "output_type": "stream",
          "name": "stdout",
          "text": [
            "Number of records where individual income is at most $50,000 is  34014\n"
          ]
        }
      ]
    },
    {
      "cell_type": "code",
      "source": [
        "# TODO: Percentage of individuals whose income is more than $50,000\n",
        "greater_percent = n_greater_50k/n_records*100\n",
        "print('Percentage of individuals whose income is more than $50,000 is ',greater_percent)"
      ],
      "metadata": {
        "colab": {
          "base_uri": "https://localhost:8080/"
        },
        "id": "ujfa-tc4J3yd",
        "outputId": "11239acc-0dd7-4a4e-a72e-c0f4553d201a"
      },
      "execution_count": 5,
      "outputs": [
        {
          "output_type": "stream",
          "name": "stdout",
          "text": [
            "Percentage of individuals whose income is more than $50,000 is  24.78439697492371\n"
          ]
        }
      ]
    },
    {
      "cell_type": "code",
      "execution_count": 6,
      "metadata": {
        "collapsed": true,
        "colab": {
          "base_uri": "https://localhost:8080/"
        },
        "id": "2IokGTHmyb_d",
        "outputId": "9b661438-a9fe-4ec8-90a2-1e4daf598abe"
      },
      "outputs": [
        {
          "output_type": "stream",
          "name": "stdout",
          "text": [
            "Total number of records: 45222\n",
            "Individuals making more than $50,000: 11208\n",
            "Individuals making at most $50,000: 34014\n",
            "Percentage of individuals making more than $50,000: 24.78439697492371%\n"
          ]
        }
      ],
      "source": [
        "\n",
        "\n",
        "# Print the results\n",
        "print(\"Total number of records: {}\".format(n_records))\n",
        "print(\"Individuals making more than $50,000: {}\".format(n_greater_50k))\n",
        "print(\"Individuals making at most $50,000: {}\".format(n_at_most_50k))\n",
        "print(\"Percentage of individuals making more than $50,000: {}%\".format(greater_percent))"
      ]
    },
    {
      "cell_type": "markdown",
      "metadata": {
        "id": "mgucMupIyb_e"
      },
      "source": [
        "** Featureset Exploration **\n",
        "\n",
        "* **age**: continuous. \n",
        "* **workclass**: Private, Self-emp-not-inc, Self-emp-inc, Federal-gov, Local-gov, State-gov, Without-pay, Never-worked. \n",
        "* **education**: Bachelors, Some-college, 11th, HS-grad, Prof-school, Assoc-acdm, Assoc-voc, 9th, 7th-8th, 12th, Masters, 1st-4th, 10th, Doctorate, 5th-6th, Preschool. \n",
        "* **education-num**: continuous. \n",
        "* **marital-status**: Married-civ-spouse, Divorced, Never-married, Separated, Widowed, Married-spouse-absent, Married-AF-spouse. \n",
        "* **occupation**: Tech-support, Craft-repair, Other-service, Sales, Exec-managerial, Prof-specialty, Handlers-cleaners, Machine-op-inspct, Adm-clerical, Farming-fishing, Transport-moving, Priv-house-serv, Protective-serv, Armed-Forces. \n",
        "* **relationship**: Wife, Own-child, Husband, Not-in-family, Other-relative, Unmarried. \n",
        "* **race**: Black, White, Asian-Pac-Islander, Amer-Indian-Eskimo, Other. \n",
        "* **sex**: Female, Male. \n",
        "* **capital-gain**: continuous. \n",
        "* **capital-loss**: continuous. \n",
        "* **hours-per-week**: continuous. \n",
        "* **native-country**: United-States, Cambodia, England, Puerto-Rico, Canada, Germany, Outlying-US(Guam-USVI-etc), India, Japan, Greece, South, China, Cuba, Iran, Honduras, Philippines, Italy, Poland, Jamaica, Vietnam, Mexico, Portugal, Ireland, France, Dominican-Republic, Laos, Ecuador, Taiwan, Haiti, Columbia, Hungary, Guatemala, Nicaragua, Scotland, Thailand, Yugoslavia, El-Salvador, Trinadad&Tobago, Peru, Hong, Holand-Netherlands."
      ]
    },
    {
      "cell_type": "markdown",
      "metadata": {
        "id": "PNDZr1Qkyb_g"
      },
      "source": [
        "----\n",
        "## Preparing the Data\n",
        "Before data can be used as input for machine learning algorithms, it often must be cleaned, formatted, and restructured — this is typically known as **preprocessing**. Fortunately, for this dataset, there are no invalid or missing entries we must deal with, however, there are some qualities about certain features that must be adjusted. This preprocessing can help tremendously with the outcome and predictive power of nearly all learning algorithms."
      ]
    },
    {
      "cell_type": "markdown",
      "metadata": {
        "id": "ctT_e3lVyb_h"
      },
      "source": [
        "### Transforming Skewed Continuous Features\n",
        "A dataset may sometimes contain at least one feature whose values tend to lie near a single number, but will also have a non-trivial number of vastly larger or smaller values than that single number.  Algorithms can be sensitive to such distributions of values and can underperform if the range is not properly normalized. With the census dataset two features fit this description: '`capital-gain'` and `'capital-loss'`. \n",
        "\n",
        "Run the code cell below to plot a histogram of these two features. Note the range of the values present and how they are distributed."
      ]
    },
    {
      "cell_type": "code",
      "execution_count": 7,
      "metadata": {
        "collapsed": true,
        "colab": {
          "base_uri": "https://localhost:8080/",
          "height": 391
        },
        "id": "C43AudmLyb_i",
        "outputId": "36f0fc05-a1e1-440e-81dc-cb0d71710dfb"
      },
      "outputs": [
        {
          "output_type": "display_data",
          "data": {
            "text/plain": [
              "<Figure size 792x360 with 2 Axes>"
            ],
            "image/png": "[encoded data removed]"
          },
          "metadata": {
            "needs_background": "light"
          }
        }
      ],
      "source": [
        "# Split the data into features and target label\n",
        "income_raw = data['income']\n",
        "features_raw = data.drop('income', axis = 1)\n",
        "\n",
        "# Visualize skewed continuous features of original data\n",
        "vs.distribution(data)"
      ]
    },
    {
      "cell_type": "markdown",
      "metadata": {
        "id": "DgluhWm9yb_j"
      },
      "source": [
        "For highly-skewed feature distributions such as `'capital-gain'` and `'capital-loss'`, it is common practice to apply a <a href=\"https://en.wikipedia.org/wiki/Data_transformation_(statistics)\">logarithmic transformation</a> on the data so that the very large and very small values do not negatively affect the performance of a learning algorithm. Using a logarithmic transformation significantly reduces the range of values caused by outliers. Care must be taken when applying this transformation however: The logarithm of `0` is undefined, so we must translate the values by a small amount above `0` to apply the the logarithm successfully.\n",
        "\n",
        "Run the code cell below to perform a transformation on the data and visualize the results. Again, note the range of values and how they are distributed. "
      ]
    },
    {
      "cell_type": "code",
      "execution_count": 8,
      "metadata": {
        "collapsed": true,
        "colab": {
          "base_uri": "https://localhost:8080/",
          "height": 391
        },
        "id": "JGYBqKlayb_j",
        "outputId": "31bf65f2-9074-4811-cf35-516aff2cd74a"
      },
      "outputs": [
        {
          "output_type": "display_data",
          "data": {
            "text/plain": [
              "<Figure size 792x360 with 2 Axes>"
            ],
            "image/png": "[encoded data removed]"
          },
          "metadata": {
            "needs_background": "light"
          }
        }
      ],
      "source": [
        "# Log-transform the skewed features\n",
        "skewed = ['capital-gain', 'capital-loss']\n",
        "features_log_transformed = pd.DataFrame(data = features_raw)\n",
        "features_log_transformed[skewed] = features_raw[skewed].apply(lambda x: np.log(x + 1))\n",
        "\n",
        "# Visualize the new log distributions\n",
        "vs.distribution(features_log_transformed, transformed = True)"
      ]
    },
    {
      "cell_type": "markdown",
      "metadata": {
        "id": "vCa8VYoNyb_k"
      },
      "source": [
        "### Normalizing Numerical Features\n",
        "In addition to performing transformations on features that are highly skewed, it is often good practice to perform some type of scaling on numerical features. Applying a scaling to the data does not change the shape of each feature's distribution (such as `'capital-gain'` or `'capital-loss'` above); however, normalization ensures that each feature is treated equally when applying supervised learners. Note that once scaling is applied, observing the data in its raw form will no longer have the same original meaning, as exampled below.\n",
        "\n",
        "Run the code cell below to normalize each numerical feature. We will use [`sklearn.preprocessing.MinMaxScaler`](http://scikit-learn.org/stable/modules/generated/sklearn.preprocessing.MinMaxScaler.html) for this."
      ]
    },
    {
      "cell_type": "code",
      "execution_count": 9,
      "metadata": {
        "collapsed": true,
        "colab": {
          "base_uri": "https://localhost:8080/",
          "height": 444
        },
        "id": "7HW6FLJayb_k",
        "outputId": "b24f884a-a6b7-4284-c9ac-9a81d1fb0fb8"
      },
      "outputs": [
        {
          "output_type": "display_data",
          "data": {
            "text/plain": [
              "        age          workclass education_level  education-num  \\\n",
              "0  0.301370          State-gov       Bachelors       0.800000   \n",
              "1  0.452055   Self-emp-not-inc       Bachelors       0.800000   \n",
              "2  0.287671            Private         HS-grad       0.533333   \n",
              "3  0.493151            Private            11th       0.400000   \n",
              "4  0.150685            Private       Bachelors       0.800000   \n",
              "\n",
              "        marital-status          occupation    relationship    race      sex  \\\n",
              "0        Never-married        Adm-clerical   Not-in-family   White     Male   \n",
              "1   Married-civ-spouse     Exec-managerial         Husband   White     Male   \n",
              "2             Divorced   Handlers-cleaners   Not-in-family   White     Male   \n",
              "3   Married-civ-spouse   Handlers-cleaners         Husband   Black     Male   \n",
              "4   Married-civ-spouse      Prof-specialty            Wife   Black   Female   \n",
              "\n",
              "   capital-gain  capital-loss  hours-per-week  native-country  \n",
              "0      0.667492           0.0        0.397959   United-States  \n",
              "1      0.000000           0.0        0.122449   United-States  \n",
              "2      0.000000           0.0        0.397959   United-States  \n",
              "3      0.000000           0.0        0.397959   United-States  \n",
              "4      0.000000           0.0        0.397959            Cuba  "
            ],
            "text/html": [
              "\n",
              "  <div id=\"df-1501dcf9-035f-4302-b255-f864452a243e\">\n",
              "    <div class=\"colab-df-container\">\n",
              "      <div>\n",
              "<style scoped>\n",
              "    .dataframe tbody tr th:only-of-type {\n",
              "        vertical-align: middle;\n",
              "    }\n",
              "\n",
              "    .dataframe tbody tr th {\n",
              "        vertical-align: top;\n",
              "    }\n",
              "\n",
              "    .dataframe thead th {\n",
              "        text-align: right;\n",
              "    }\n",
              "</style>\n",
              "<table border=\"1\" class=\"dataframe\">\n",
              "  <thead>\n",
              "    <tr style=\"text-align: right;\">\n",
              "      <th></th>\n",
              "      <th>age</th>\n",
              "      <th>workclass</th>\n",
              "      <th>education_level</th>\n",
              "      <th>education-num</th>\n",
              "      <th>marital-status</th>\n",
              "      <th>occupation</th>\n",
              "      <th>relationship</th>\n",
              "      <th>race</th>\n",
              "      <th>sex</th>\n",
              "      <th>capital-gain</th>\n",
              "      <th>capital-loss</th>\n",
              "      <th>hours-per-week</th>\n",
              "      <th>native-country</th>\n",
              "    </tr>\n",
              "  </thead>\n",
              "  <tbody>\n",
              "    <tr>\n",
              "      <th>0</th>\n",
              "      <td>0.301370</td>\n",
              "      <td>State-gov</td>\n",
              "      <td>Bachelors</td>\n",
              "      <td>0.800000</td>\n",
              "      <td>Never-married</td>\n",
              "      <td>Adm-clerical</td>\n",
              "      <td>Not-in-family</td>\n",
              "      <td>White</td>\n",
              "      <td>Male</td>\n",
              "      <td>0.667492</td>\n",
              "      <td>0.0</td>\n",
              "      <td>0.397959</td>\n",
              "      <td>United-States</td>\n",
              "    </tr>\n",
              "    <tr>\n",
              "      <th>1</th>\n",
              "      <td>0.452055</td>\n",
              "      <td>Self-emp-not-inc</td>\n",
              "      <td>Bachelors</td>\n",
              "      <td>0.800000</td>\n",
              "      <td>Married-civ-spouse</td>\n",
              "      <td>Exec-managerial</td>\n",
              "      <td>Husband</td>\n",
              "      <td>White</td>\n",
              "      <td>Male</td>\n",
              "      <td>0.000000</td>\n",
              "      <td>0.0</td>\n",
              "      <td>0.122449</td>\n",
              "      <td>United-States</td>\n",
              "    </tr>\n",
              "    <tr>\n",
              "      <th>2</th>\n",
              "      <td>0.287671</td>\n",
              "      <td>Private</td>\n",
              "      <td>HS-grad</td>\n",
              "      <td>0.533333</td>\n",
              "      <td>Divorced</td>\n",
              "      <td>Handlers-cleaners</td>\n",
              "      <td>Not-in-family</td>\n",
              "      <td>White</td>\n",
              "      <td>Male</td>\n",
              "      <td>0.000000</td>\n",
              "      <td>0.0</td>\n",
              "      <td>0.397959</td>\n",
              "      <td>United-States</td>\n",
              "    </tr>\n",
              "    <tr>\n",
              "      <th>3</th>\n",
              "      <td>0.493151</td>\n",
              "      <td>Private</td>\n",
              "      <td>11th</td>\n",
              "      <td>0.400000</td>\n",
              "      <td>Married-civ-spouse</td>\n",
              "      <td>Handlers-cleaners</td>\n",
              "      <td>Husband</td>\n",
              "      <td>Black</td>\n",
              "      <td>Male</td>\n",
              "      <td>0.000000</td>\n",
              "      <td>0.0</td>\n",
              "      <td>0.397959</td>\n",
              "      <td>United-States</td>\n",
              "    </tr>\n",
              "    <tr>\n",
              "      <th>4</th>\n",
              "      <td>0.150685</td>\n",
              "      <td>Private</td>\n",
              "      <td>Bachelors</td>\n",
              "      <td>0.800000</td>\n",
              "      <td>Married-civ-spouse</td>\n",
              "      <td>Prof-specialty</td>\n",
              "      <td>Wife</td>\n",
              "      <td>Black</td>\n",
              "      <td>Female</td>\n",
              "      <td>0.000000</td>\n",
              "      <td>0.0</td>\n",
              "      <td>0.397959</td>\n",
              "      <td>Cuba</td>\n",
              "    </tr>\n",
              "  </tbody>\n",
              "</table>\n",
              "</div>\n",
              "      <button class=\"colab-df-convert\" onclick=\"convertToInteractive('df-1501dcf9-035f-4302-b255-f864452a243e')\"\n",
              "              title=\"Convert this dataframe to an interactive table.\"\n",
              "              style=\"display:none;\">\n",
              "        \n",
              "  <svg xmlns=\"http://www.w3.org/2000/svg\" height=\"24px\"viewBox=\"0 0 24 24\"\n",
              "       width=\"24px\">\n",
              "    <path d=\"M0 0h24v24H0V0z\" fill=\"none\"/>\n",
              "    <path d=\"M18.56 5.44l.94 2.06.94-2.06 2.06-.94-2.06-.94-.94-2.06-.94 2.06-2.06.94zm-11 1L8.5 8.5l.94-2.06 2.06-.94-2.06-.94L8.5 2.5l-.94 2.06-2.06.94zm10 10l.94 2.06.94-2.06 2.06-.94-2.06-.94-.94-2.06-.94 2.06-2.06.94z\"/><path d=\"M17.41 7.96l-1.37-1.37c-.4-.4-.92-.59-1.43-.59-.52 0-1.04.2-1.43.59L10.3 9.45l-7.72 7.72c-.78.78-.78 2.05 0 2.83L4 21.41c.39.39.9.59 1.41.59.51 0 1.02-.2 1.41-.59l7.78-7.78 2.81-2.81c.8-.78.8-2.07 0-2.86zM5.41 20L4 18.59l7.72-7.72 1.47 1.35L5.41 20z\"/>\n",
              "  </svg>\n",
              "      </button>\n",
              "      \n",
              "  <style>\n",
              "    .colab-df-container {\n",
              "      display:flex;\n",
              "      flex-wrap:wrap;\n",
              "      gap: 12px;\n",
              "    }\n",
              "\n",
              "    .colab-df-convert {\n",
              "      background-color: #E8F0FE;\n",
              "      border: none;\n",
              "      border-radius: 50%;\n",
              "      cursor: pointer;\n",
              "      display: none;\n",
              "      fill: #1967D2;\n",
              "      height: 32px;\n",
              "      padding: 0 0 0 0;\n",
              "      width: 32px;\n",
              "    }\n",
              "\n",
              "    .colab-df-convert:hover {\n",
              "      background-color: #E2EBFA;\n",
              "      box-shadow: 0px 1px 2px rgba(60, 64, 67, 0.3), 0px 1px 3px 1px rgba(60, 64, 67, 0.15);\n",
              "      fill: #174EA6;\n",
              "    }\n",
              "\n",
              "    [theme=dark] .colab-df-convert {\n",
              "      background-color: #3B4455;\n",
              "      fill: #D2E3FC;\n",
              "    }\n",
              "\n",
              "    [theme=dark] .colab-df-convert:hover {\n",
              "      background-color: #434B5C;\n",
              "      box-shadow: 0px 1px 3px 1px rgba(0, 0, 0, 0.15);\n",
              "      filter: drop-shadow(0px 1px 2px rgba(0, 0, 0, 0.3));\n",
              "      fill: #FFFFFF;\n",
              "    }\n",
              "  </style>\n",
              "\n",
              "      <script>\n",
              "        const buttonEl =\n",
              "          document.querySelector('#df-1501dcf9-035f-4302-b255-f864452a243e button.colab-df-convert');\n",
              "        buttonEl.style.display =\n",
              "          google.colab.kernel.accessAllowed ? 'block' : 'none';\n",
              "\n",
              "        async function convertToInteractive(key) {\n",
              "          const element = document.querySelector('#df-1501dcf9-035f-4302-b255-f864452a243e');\n",
              "          const dataTable =\n",
              "            await google.colab.kernel.invokeFunction('convertToInteractive',\n",
              "                                                     [key], {});\n",
              "          if (!dataTable) return;\n",
              "\n",
              "          const docLinkHtml = 'Like what you see? Visit the ' +\n",
              "            '<a target=\"_blank\" href=https://colab.research.google.com/notebooks/data_table.ipynb>data table notebook</a>'\n",
              "            + ' to learn more about interactive tables.';\n",
              "          element.innerHTML = '';\n",
              "          dataTable['output_type'] = 'display_data';\n",
              "          await google.colab.output.renderOutput(dataTable, element);\n",
              "          const docLink = document.createElement('div');\n",
              "          docLink.innerHTML = docLinkHtml;\n",
              "          element.appendChild(docLink);\n",
              "        }\n",
              "      </script>\n",
              "    </div>\n",
              "  </div>\n",
              "  "
            ]
          },
          "metadata": {}
        }
      ],
      "source": [
        "# Import sklearn.preprocessing.StandardScaler\n",
        "from sklearn.preprocessing import MinMaxScaler\n",
        "\n",
        "# Initialize a scaler, then apply it to the features\n",
        "scaler = MinMaxScaler() # default=(0, 1)\n",
        "numerical = ['age', 'education-num', 'capital-gain', 'capital-loss', 'hours-per-week']\n",
        "\n",
        "features_log_minmax_transform = pd.DataFrame(data = features_log_transformed)\n",
        "features_log_minmax_transform[numerical] = scaler.fit_transform(features_log_transformed[numerical])\n",
        "\n",
        "# Show an example of a record with scaling applied\n",
        "display(features_log_minmax_transform.head(n = 5))"
      ]
    },
    {
      "cell_type": "markdown",
      "metadata": {
        "id": "0x1xT3jyyb_l"
      },
      "source": [
        "### Implementation: Data Preprocessing\n",
        "\n",
        "From the table in **Exploring the Data** above, we can see there are several features for each record that are non-numeric. Typically, learning algorithms expect input to be numeric, which requires that non-numeric features (called *categorical variables*) be converted. One popular way to convert categorical variables is by using the **one-hot encoding** scheme. One-hot encoding creates a _\"dummy\"_ variable for each possible category of each non-numeric feature. For example, assume `someFeature` has three possible entries: `A`, `B`, or `C`. We then encode this feature into `someFeature_A`, `someFeature_B` and `someFeature_C`.\n",
        "\n",
        "|   | someFeature |                    | someFeature_A | someFeature_B | someFeature_C |\n",
        "| :-: | :-: |                            | :-: | :-: | :-: |\n",
        "| 0 |  B  |  | 0 | 1 | 0 |\n",
        "| 1 |  C  | ----> one-hot encode ----> | 0 | 0 | 1 |\n",
        "| 2 |  A  |  | 1 | 0 | 0 |\n",
        "\n",
        "Additionally, as with the non-numeric features, we need to convert the non-numeric target label, `'income'` to numerical values for the learning algorithm to work. Since there are only two possible categories for this label (\"<=50K\" and \">50K\"), we can avoid using one-hot encoding and simply encode these two categories as `0` and `1`, respectively. In code cell below, you will need to implement the following:\n",
        " - Use [`pandas.get_dummies()`](http://pandas.pydata.org/pandas-docs/stable/generated/pandas.get_dummies.html?highlight=get_dummies#pandas.get_dummies) to perform one-hot encoding on the `'features_log_minmax_transform'` data.\n",
        " - Convert the target label `'income_raw'` to numerical entries.\n",
        "   - Set records with \"<=50K\" to `0` and records with \">50K\" to `1`."
      ]
    },
    {
      "cell_type": "code",
      "source": [
        "# TODO: One-hot encode the 'features_log_minmax_transform' data using pandas.get_dummies()\n",
        "features_final = pd.get_dummies(features_log_minmax_transform)\n",
        "display(features_final.head(n = 5))\n",
        "print(features_log_minmax_transform.shape)\n",
        "print(features_final.shape)"
      ],
      "metadata": {
        "colab": {
          "base_uri": "https://localhost:8080/",
          "height": 386
        },
        "id": "q5yulBYBxb0j",
        "outputId": "66f46867-9a85-4a72-9557-713ddfb50543"
      },
      "execution_count": 10,
      "outputs": [
        {
          "output_type": "display_data",
          "data": {
            "text/plain": [
              "        age  education-num  capital-gain  capital-loss  hours-per-week  \\\n",
              "0  0.301370       0.800000      0.667492           0.0        0.397959   \n",
              "1  0.452055       0.800000      0.000000           0.0        0.122449   \n",
              "2  0.287671       0.533333      0.000000           0.0        0.397959   \n",
              "3  0.493151       0.400000      0.000000           0.0        0.397959   \n",
              "4  0.150685       0.800000      0.000000           0.0        0.397959   \n",
              "\n",
              "   workclass_ Federal-gov  workclass_ Local-gov  workclass_ Private  \\\n",
              "0                       0                     0                   0   \n",
              "1                       0                     0                   0   \n",
              "2                       0                     0                   1   \n",
              "3                       0                     0                   1   \n",
              "4                       0                     0                   1   \n",
              "\n",
              "   workclass_ Self-emp-inc  workclass_ Self-emp-not-inc  ...  \\\n",
              "0                        0                            0  ...   \n",
              "1                        0                            1  ...   \n",
              "2                        0                            0  ...   \n",
              "3                        0                            0  ...   \n",
              "4                        0                            0  ...   \n",
              "\n",
              "   native-country_ Portugal  native-country_ Puerto-Rico  \\\n",
              "0                         0                            0   \n",
              "1                         0                            0   \n",
              "2                         0                            0   \n",
              "3                         0                            0   \n",
              "4                         0                            0   \n",
              "\n",
              "   native-country_ Scotland  native-country_ South  native-country_ Taiwan  \\\n",
              "0                         0                      0                       0   \n",
              "1                         0                      0                       0   \n",
              "2                         0                      0                       0   \n",
              "3                         0                      0                       0   \n",
              "4                         0                      0                       0   \n",
              "\n",
              "   native-country_ Thailand  native-country_ Trinadad&Tobago  \\\n",
              "0                         0                                0   \n",
              "1                         0                                0   \n",
              "2                         0                                0   \n",
              "3                         0                                0   \n",
              "4                         0                                0   \n",
              "\n",
              "   native-country_ United-States  native-country_ Vietnam  \\\n",
              "0                              1                        0   \n",
              "1                              1                        0   \n",
              "2                              1                        0   \n",
              "3                              1                        0   \n",
              "4                              0                        0   \n",
              "\n",
              "   native-country_ Yugoslavia  \n",
              "0                           0  \n",
              "1                           0  \n",
              "2                           0  \n",
              "3                           0  \n",
              "4                           0  \n",
              "\n",
              "[5 rows x 103 columns]"
            ],
            "text/html": [
              "\n",
              "  <div id=\"df-3476f807-cddb-4296-bdac-ed3c2b566c28\">\n",
              "    <div class=\"colab-df-container\">\n",
              "      <div>\n",
              "<style scoped>\n",
              "    .dataframe tbody tr th:only-of-type {\n",
              "        vertical-align: middle;\n",
              "    }\n",
              "\n",
              "    .dataframe tbody tr th {\n",
              "        vertical-align: top;\n",
              "    }\n",
              "\n",
              "    .dataframe thead th {\n",
              "        text-align: right;\n",
              "    }\n",
              "</style>\n",
              "<table border=\"1\" class=\"dataframe\">\n",
              "  <thead>\n",
              "    <tr style=\"text-align: right;\">\n",
              "      <th></th>\n",
              "      <th>age</th>\n",
              "      <th>education-num</th>\n",
              "      <th>capital-gain</th>\n",
              "      <th>capital-loss</th>\n",
              "      <th>hours-per-week</th>\n",
              "      <th>workclass_ Federal-gov</th>\n",
              "      <th>workclass_ Local-gov</th>\n",
              "      <th>workclass_ Private</th>\n",
              "      <th>workclass_ Self-emp-inc</th>\n",
              "      <th>workclass_ Self-emp-not-inc</th>\n",
              "      <th>...</th>\n",
              "      <th>native-country_ Portugal</th>\n",
              "      <th>native-country_ Puerto-Rico</th>\n",
              "      <th>native-country_ Scotland</th>\n",
              "      <th>native-country_ South</th>\n",
              "      <th>native-country_ Taiwan</th>\n",
              "      <th>native-country_ Thailand</th>\n",
              "      <th>native-country_ Trinadad&amp;Tobago</th>\n",
              "      <th>native-country_ United-States</th>\n",
              "      <th>native-country_ Vietnam</th>\n",
              "      <th>native-country_ Yugoslavia</th>\n",
              "    </tr>\n",
              "  </thead>\n",
              "  <tbody>\n",
              "    <tr>\n",
              "      <th>0</th>\n",
              "      <td>0.301370</td>\n",
              "      <td>0.800000</td>\n",
              "      <td>0.667492</td>\n",
              "      <td>0.0</td>\n",
              "      <td>0.397959</td>\n",
              "      <td>0</td>\n",
              "      <td>0</td>\n",
              "      <td>0</td>\n",
              "      <td>0</td>\n",
              "      <td>0</td>\n",
              "      <td>...</td>\n",
              "      <td>0</td>\n",
              "      <td>0</td>\n",
              "      <td>0</td>\n",
              "      <td>0</td>\n",
              "      <td>0</td>\n",
              "      <td>0</td>\n",
              "      <td>0</td>\n",
              "      <td>1</td>\n",
              "      <td>0</td>\n",
              "      <td>0</td>\n",
              "    </tr>\n",
              "    <tr>\n",
              "      <th>1</th>\n",
              "      <td>0.452055</td>\n",
              "      <td>0.800000</td>\n",
              "      <td>0.000000</td>\n",
              "      <td>0.0</td>\n",
              "      <td>0.122449</td>\n",
              "      <td>0</td>\n",
              "      <td>0</td>\n",
              "      <td>0</td>\n",
              "      <td>0</td>\n",
              "      <td>1</td>\n",
              "      <td>...</td>\n",
              "      <td>0</td>\n",
              "      <td>0</td>\n",
              "      <td>0</td>\n",
              "      <td>0</td>\n",
              "      <td>0</td>\n",
              "      <td>0</td>\n",
              "      <td>0</td>\n",
              "      <td>1</td>\n",
              "      <td>0</td>\n",
              "      <td>0</td>\n",
              "    </tr>\n",
              "    <tr>\n",
              "      <th>2</th>\n",
              "      <td>0.287671</td>\n",
              "      <td>0.533333</td>\n",
              "      <td>0.000000</td>\n",
              "      <td>0.0</td>\n",
              "      <td>0.397959</td>\n",
              "      <td>0</td>\n",
              "      <td>0</td>\n",
              "      <td>1</td>\n",
              "      <td>0</td>\n",
              "      <td>0</td>\n",
              "      <td>...</td>\n",
              "      <td>0</td>\n",
              "      <td>0</td>\n",
              "      <td>0</td>\n",
              "      <td>0</td>\n",
              "      <td>0</td>\n",
              "      <td>0</td>\n",
              "      <td>0</td>\n",
              "      <td>1</td>\n",
              "      <td>0</td>\n",
              "      <td>0</td>\n",
              "    </tr>\n",
              "    <tr>\n",
              "      <th>3</th>\n",
              "      <td>0.493151</td>\n",
              "      <td>0.400000</td>\n",
              "      <td>0.000000</td>\n",
              "      <td>0.0</td>\n",
              "      <td>0.397959</td>\n",
              "      <td>0</td>\n",
              "      <td>0</td>\n",
              "      <td>1</td>\n",
              "      <td>0</td>\n",
              "      <td>0</td>\n",
              "      <td>...</td>\n",
              "      <td>0</td>\n",
              "      <td>0</td>\n",
              "      <td>0</td>\n",
              "      <td>0</td>\n",
              "      <td>0</td>\n",
              "      <td>0</td>\n",
              "      <td>0</td>\n",
              "      <td>1</td>\n",
              "      <td>0</td>\n",
              "      <td>0</td>\n",
              "    </tr>\n",
              "    <tr>\n",
              "      <th>4</th>\n",
              "      <td>0.150685</td>\n",
              "      <td>0.800000</td>\n",
              "      <td>0.000000</td>\n",
              "      <td>0.0</td>\n",
              "      <td>0.397959</td>\n",
              "      <td>0</td>\n",
              "      <td>0</td>\n",
              "      <td>1</td>\n",
              "      <td>0</td>\n",
              "      <td>0</td>\n",
              "      <td>...</td>\n",
              "      <td>0</td>\n",
              "      <td>0</td>\n",
              "      <td>0</td>\n",
              "      <td>0</td>\n",
              "      <td>0</td>\n",
              "      <td>0</td>\n",
              "      <td>0</td>\n",
              "      <td>0</td>\n",
              "      <td>0</td>\n",
              "      <td>0</td>\n",
              "    </tr>\n",
              "  </tbody>\n",
              "</table>\n",
              "<p>5 rows × 103 columns</p>\n",
              "</div>\n",
              "      <button class=\"colab-df-convert\" onclick=\"convertToInteractive('df-3476f807-cddb-4296-bdac-ed3c2b566c28')\"\n",
              "              title=\"Convert this dataframe to an interactive table.\"\n",
              "              style=\"display:none;\">\n",
              "        \n",
              "  <svg xmlns=\"http://www.w3.org/2000/svg\" height=\"24px\"viewBox=\"0 0 24 24\"\n",
              "       width=\"24px\">\n",
              "    <path d=\"M0 0h24v24H0V0z\" fill=\"none\"/>\n",
              "    <path d=\"M18.56 5.44l.94 2.06.94-2.06 2.06-.94-2.06-.94-.94-2.06-.94 2.06-2.06.94zm-11 1L8.5 8.5l.94-2.06 2.06-.94-2.06-.94L8.5 2.5l-.94 2.06-2.06.94zm10 10l.94 2.06.94-2.06 2.06-.94-2.06-.94-.94-2.06-.94 2.06-2.06.94z\"/><path d=\"M17.41 7.96l-1.37-1.37c-.4-.4-.92-.59-1.43-.59-.52 0-1.04.2-1.43.59L10.3 9.45l-7.72 7.72c-.78.78-.78 2.05 0 2.83L4 21.41c.39.39.9.59 1.41.59.51 0 1.02-.2 1.41-.59l7.78-7.78 2.81-2.81c.8-.78.8-2.07 0-2.86zM5.41 20L4 18.59l7.72-7.72 1.47 1.35L5.41 20z\"/>\n",
              "  </svg>\n",
              "      </button>\n",
              "      \n",
              "  <style>\n",
              "    .colab-df-container {\n",
              "      display:flex;\n",
              "      flex-wrap:wrap;\n",
              "      gap: 12px;\n",
              "    }\n",
              "\n",
              "    .colab-df-convert {\n",
              "      background-color: #E8F0FE;\n",
              "      border: none;\n",
              "      border-radius: 50%;\n",
              "      cursor: pointer;\n",
              "      display: none;\n",
              "      fill: #1967D2;\n",
              "      height: 32px;\n",
              "      padding: 0 0 0 0;\n",
              "      width: 32px;\n",
              "    }\n",
              "\n",
              "    .colab-df-convert:hover {\n",
              "      background-color: #E2EBFA;\n",
              "      box-shadow: 0px 1px 2px rgba(60, 64, 67, 0.3), 0px 1px 3px 1px rgba(60, 64, 67, 0.15);\n",
              "      fill: #174EA6;\n",
              "    }\n",
              "\n",
              "    [theme=dark] .colab-df-convert {\n",
              "      background-color: #3B4455;\n",
              "      fill: #D2E3FC;\n",
              "    }\n",
              "\n",
              "    [theme=dark] .colab-df-convert:hover {\n",
              "      background-color: #434B5C;\n",
              "      box-shadow: 0px 1px 3px 1px rgba(0, 0, 0, 0.15);\n",
              "      filter: drop-shadow(0px 1px 2px rgba(0, 0, 0, 0.3));\n",
              "      fill: #FFFFFF;\n",
              "    }\n",
              "  </style>\n",
              "\n",
              "      <script>\n",
              "        const buttonEl =\n",
              "          document.querySelector('#df-3476f807-cddb-4296-bdac-ed3c2b566c28 button.colab-df-convert');\n",
              "        buttonEl.style.display =\n",
              "          google.colab.kernel.accessAllowed ? 'block' : 'none';\n",
              "\n",
              "        async function convertToInteractive(key) {\n",
              "          const element = document.querySelector('#df-3476f807-cddb-4296-bdac-ed3c2b566c28');\n",
              "          const dataTable =\n",
              "            await google.colab.kernel.invokeFunction('convertToInteractive',\n",
              "                                                     [key], {});\n",
              "          if (!dataTable) return;\n",
              "\n",
              "          const docLinkHtml = 'Like what you see? Visit the ' +\n",
              "            '<a target=\"_blank\" href=https://colab.research.google.com/notebooks/data_table.ipynb>data table notebook</a>'\n",
              "            + ' to learn more about interactive tables.';\n",
              "          element.innerHTML = '';\n",
              "          dataTable['output_type'] = 'display_data';\n",
              "          await google.colab.output.renderOutput(dataTable, element);\n",
              "          const docLink = document.createElement('div');\n",
              "          docLink.innerHTML = docLinkHtml;\n",
              "          element.appendChild(docLink);\n",
              "        }\n",
              "      </script>\n",
              "    </div>\n",
              "  </div>\n",
              "  "
            ]
          },
          "metadata": {}
        },
        {
          "output_type": "stream",
          "name": "stdout",
          "text": [
            "(45222, 13)\n",
            "(45222, 103)\n"
          ]
        }
      ]
    },
    {
      "cell_type": "code",
      "source": [
        "# TODO: Encode the 'income_raw' data to numerical values\n",
        "income = income_raw.replace(['<=50K','>50K'],[0,1])\n",
        "display(income.head(n = 10))"
      ],
      "metadata": {
        "colab": {
          "base_uri": "https://localhost:8080/",
          "height": 208
        },
        "id": "8BAtMJ6PyDKX",
        "outputId": "eceff320-826f-4301-956c-a06f69905e5a"
      },
      "execution_count": 11,
      "outputs": [
        {
          "output_type": "display_data",
          "data": {
            "text/plain": [
              "0    0\n",
              "1    0\n",
              "2    0\n",
              "3    0\n",
              "4    0\n",
              "5    0\n",
              "6    0\n",
              "7    1\n",
              "8    1\n",
              "9    1\n",
              "Name: income, dtype: int64"
            ]
          },
          "metadata": {}
        }
      ]
    },
    {
      "cell_type": "code",
      "execution_count": 12,
      "metadata": {
        "collapsed": true,
        "scrolled": true,
        "colab": {
          "base_uri": "https://localhost:8080/"
        },
        "id": "yBTCjR72yb_l",
        "outputId": "e0e25908-8263-42db-e217-c742b41d8611"
      },
      "outputs": [
        {
          "output_type": "stream",
          "name": "stdout",
          "text": [
            "103 total features after one-hot encoding.\n",
            "['age', 'education-num', 'capital-gain', 'capital-loss', 'hours-per-week', 'workclass_ Federal-gov', 'workclass_ Local-gov', 'workclass_ Private', 'workclass_ Self-emp-inc', 'workclass_ Self-emp-not-inc', 'workclass_ State-gov', 'workclass_ Without-pay', 'education_level_ 10th', 'education_level_ 11th', 'education_level_ 12th', 'education_level_ 1st-4th', 'education_level_ 5th-6th', 'education_level_ 7th-8th', 'education_level_ 9th', 'education_level_ Assoc-acdm', 'education_level_ Assoc-voc', 'education_level_ Bachelors', 'education_level_ Doctorate', 'education_level_ HS-grad', 'education_level_ Masters', 'education_level_ Preschool', 'education_level_ Prof-school', 'education_level_ Some-college', 'marital-status_ Divorced', 'marital-status_ Married-AF-spouse', 'marital-status_ Married-civ-spouse', 'marital-status_ Married-spouse-absent', 'marital-status_ Never-married', 'marital-status_ Separated', 'marital-status_ Widowed', 'occupation_ Adm-clerical', 'occupation_ Armed-Forces', 'occupation_ Craft-repair', 'occupation_ Exec-managerial', 'occupation_ Farming-fishing', 'occupation_ Handlers-cleaners', 'occupation_ Machine-op-inspct', 'occupation_ Other-service', 'occupation_ Priv-house-serv', 'occupation_ Prof-specialty', 'occupation_ Protective-serv', 'occupation_ Sales', 'occupation_ Tech-support', 'occupation_ Transport-moving', 'relationship_ Husband', 'relationship_ Not-in-family', 'relationship_ Other-relative', 'relationship_ Own-child', 'relationship_ Unmarried', 'relationship_ Wife', 'race_ Amer-Indian-Eskimo', 'race_ Asian-Pac-Islander', 'race_ Black', 'race_ Other', 'race_ White', 'sex_ Female', 'sex_ Male', 'native-country_ Cambodia', 'native-country_ Canada', 'native-country_ China', 'native-country_ Columbia', 'native-country_ Cuba', 'native-country_ Dominican-Republic', 'native-country_ Ecuador', 'native-country_ El-Salvador', 'native-country_ England', 'native-country_ France', 'native-country_ Germany', 'native-country_ Greece', 'native-country_ Guatemala', 'native-country_ Haiti', 'native-country_ Holand-Netherlands', 'native-country_ Honduras', 'native-country_ Hong', 'native-country_ Hungary', 'native-country_ India', 'native-country_ Iran', 'native-country_ Ireland', 'native-country_ Italy', 'native-country_ Jamaica', 'native-country_ Japan', 'native-country_ Laos', 'native-country_ Mexico', 'native-country_ Nicaragua', 'native-country_ Outlying-US(Guam-USVI-etc)', 'native-country_ Peru', 'native-country_ Philippines', 'native-country_ Poland', 'native-country_ Portugal', 'native-country_ Puerto-Rico', 'native-country_ Scotland', 'native-country_ South', 'native-country_ Taiwan', 'native-country_ Thailand', 'native-country_ Trinadad&Tobago', 'native-country_ United-States', 'native-country_ Vietnam', 'native-country_ Yugoslavia']\n"
          ]
        }
      ],
      "source": [
        "# Print the number of features after one-hot encoding\n",
        "encoded = list(features_final.columns)\n",
        "print(\"{} total features after one-hot encoding.\".format(len(encoded)))\n",
        "\n",
        "# Uncomment the following line to see the encoded feature names\n",
        "print(encoded)"
      ]
    },
    {
      "cell_type": "markdown",
      "metadata": {
        "id": "FiZ94FM0yb_m"
      },
      "source": [
        "### Shuffle and Split Data\n",
        "Now all _categorical variables_ have been converted into numerical features, and all numerical features have been normalized. As always, we will now split the data (both features and their labels) into training and test sets. 80% of the data will be used for training and 20% for testing.\n",
        "\n",
        "Run the code cell below to perform this split."
      ]
    },
    {
      "cell_type": "code",
      "execution_count": 13,
      "metadata": {
        "collapsed": true,
        "colab": {
          "base_uri": "https://localhost:8080/"
        },
        "id": "Fv-qU4q4yb_m",
        "outputId": "fa159ac8-5016-4f30-f8a1-d5203d52b702"
      },
      "outputs": [
        {
          "output_type": "stream",
          "name": "stdout",
          "text": [
            "Training set has 36177 samples.\n",
            "Testing set has 9045 samples.\n"
          ]
        }
      ],
      "source": [
        "# Import train_test_split\n",
        "from sklearn.model_selection import train_test_split\n",
        "\n",
        "# Split the 'features' and 'income' data into training and testing sets\n",
        "X_train, X_test, y_train, y_test = train_test_split(features_final, \n",
        "                                                    income, \n",
        "                                                    test_size = 0.2, \n",
        "                                                    random_state = 0)\n",
        "\n",
        "# Show the results of the split\n",
        "print(\"Training set has {} samples.\".format(X_train.shape[0]))\n",
        "print(\"Testing set has {} samples.\".format(X_test.shape[0]))"
      ]
    },
    {
      "cell_type": "markdown",
      "metadata": {
        "id": "1MnbtHjAyb_m"
      },
      "source": [
        "----\n",
        "## Evaluating Model Performance\n",
        "In this section, we will investigate four different algorithms, and determine which is best at modeling the data. Three of these algorithms will be supervised learners of your choice, and the fourth algorithm is known as a *naive predictor*."
      ]
    },
    {
      "cell_type": "markdown",
      "metadata": {
        "id": "TPmKAyW6yb_n"
      },
      "source": [
        "### Metrics and the Naive Predictor\n",
        "*CharityML*, equipped with their research, knows individuals that make more than \\$50,000 are most likely to donate to their charity. Because of this, *CharityML* is particularly interested in predicting who makes more than \\$50,000 accurately. It would seem that using **accuracy** as a metric for evaluating a particular model's performace would be appropriate. Additionally, identifying someone that *does not* make more than \\$50,000 as someone who does would be detrimental to *CharityML*, since they are looking to find individuals willing to donate. Therefore, a model's ability to precisely predict those that make more than \\$50,000 is *more important* than the model's ability to **recall** those individuals. We can use **F-beta score** as a metric that considers both precision and recall:\n",
        "\n",
        "$$ F_{\\beta} = (1 + \\beta^2) \\cdot \\frac{precision \\cdot recall}{\\left( \\beta^2 \\cdot precision \\right) + recall} $$\n",
        "\n",
        "In particular, when $\\beta = 0.5$, more emphasis is placed on precision. This is called the **F$_{0.5}$ score** (or F-score for simplicity).\n",
        "\n",
        "Looking at the distribution of classes (those who make at most \\$50,000, and those who make more), it's clear most individuals do not make more than \\$50,000. This can greatly affect **accuracy**, since we could simply say *\"this person does not make more than \\$50,000\"* and generally be right, without ever looking at the data! Making such a statement would be called **naive**, since we have not considered any information to substantiate the claim. It is always important to consider the *naive prediction* for your data, to help establish a benchmark for whether a model is performing well. That been said, using that prediction would be pointless: If we predicted all people made less than \\$50,000, *CharityML* would identify no one as donors. \n",
        "\n",
        "\n",
        "#### Note: Recap of accuracy, precision, recall\n",
        "\n",
        "** Accuracy ** measures how often the classifier makes the correct prediction. It’s the ratio of the number of correct predictions to the total number of predictions (the number of test data points).\n",
        "\n",
        "** Precision ** tells us what proportion of messages we classified as spam, actually were spam.\n",
        "It is a ratio of true positives(words classified as spam, and which are actually spam) to all positives(all words classified as spam, irrespective of whether that was the correct classificatio), in other words it is the ratio of\n",
        "\n",
        "`[True Positives/(True Positives + False Positives)]`\n",
        "\n",
        "** Recall(sensitivity)** tells us what proportion of messages that actually were spam were classified by us as spam.\n",
        "It is a ratio of true positives(words classified as spam, and which are actually spam) to all the words that were actually spam, in other words it is the ratio of\n",
        "\n",
        "`[True Positives/(True Positives + False Negatives)]`\n",
        "\n",
        "For classification problems that are skewed in their classification distributions like in our case, for example if we had a 100 text messages and only 2 were spam and the rest 98 weren't, accuracy by itself is not a very good metric. We could classify 90 messages as not spam(including the 2 that were spam but we classify them as not spam, hence they would be false negatives) and 10 as spam(all 10 false positives) and still get a reasonably good accuracy score. For such cases, precision and recall come in very handy. These two metrics can be combined to get the F1 score, which is weighted average(harmonic mean) of the precision and recall scores. This score can range from 0 to 1, with 1 being the best possible F1 score(we take the harmonic mean as we are dealing with ratios)."
      ]
    },
    {
      "cell_type": "markdown",
      "metadata": {
        "id": "HJNNuzXIyb_n"
      },
      "source": [
        "### Question 1 - Naive Predictor Performace\n",
        "* If we chose a model that always predicted an individual made more than $50,000, what would  that model's accuracy and F-score be on this dataset? You must use the code cell below and assign your results to `'accuracy'` and `'fscore'` to be used later.\n",
        "\n",
        "** Please note ** that the the purpose of generating a naive predictor is simply to show what a base model without any intelligence would look like. In the real world, ideally your base model would be either the results of a previous model or could be based on a research paper upon which you are looking to improve. When there is no benchmark model set, getting a result better than random choice is a place you could start from.\n",
        "\n",
        "** HINT: ** \n",
        "\n",
        "* When we have a model that always predicts '1' (i.e. the individual makes more than 50k) then our model will have no True Negatives(TN) or False Negatives(FN) as we are not making any negative('0' value) predictions. Therefore our Accuracy in this case becomes the same as our Precision(True Positives/(True Positives + False Positives)) as every prediction that we have made with value '1' that should have '0' becomes a False Positive; therefore our denominator in this case is the total number of records we have in total. \n",
        "* Our Recall score(True Positives/(True Positives + False Negatives)) in this setting becomes 1 as we have no False Negatives."
      ]
    },
    {
      "cell_type": "code",
      "execution_count": 14,
      "metadata": {
        "collapsed": true,
        "colab": {
          "base_uri": "https://localhost:8080/"
        },
        "id": "oIJbilIIyb_o",
        "outputId": "bc847a29-0947-481a-ec49-b3c70ec7b10d"
      },
      "outputs": [
        {
          "output_type": "stream",
          "name": "stdout",
          "text": [
            "Naive Predictor: [Accuracy score: 0.2478, F-score: 0.2917]\n"
          ]
        }
      ],
      "source": [
        "'''\n",
        "TP = np.sum(income) # Counting the ones as this is the naive case. Note that 'income' is the 'income_raw' data \n",
        "encoded to numerical values done in the data preprocessing step.\n",
        "FP = income.count() - TP # Specific to the naive case\n",
        "\n",
        "TN = 0 # No predicted negatives in the naive case\n",
        "FN = 0 # No predicted negatives in the naive case\n",
        "'''\n",
        "TP = np.sum(income)\n",
        "FP = income.count() - TP\n",
        "TN = 0\n",
        "FN = 0\n",
        "# TODO: Calculate accuracy, precision and recall\n",
        "accuracy = (TP+TN)/(TP+FP)\n",
        "recall = TP/(TP+FN)\n",
        "precision = (TP)/(TP+FP)\n",
        "\n",
        "# TODO: Calculate F-score using the formula above for beta = 0.5 and correct values for precision and recall.\n",
        "beta = 0.5 \n",
        "fscore = (1+pow(beta,2))*(precision*recall)/((pow(beta,2))*precision+recall)\n",
        "\n",
        "# Print the results \n",
        "print(\"Naive Predictor: [Accuracy score: {:.4f}, F-score: {:.4f}]\".format(accuracy, fscore))"
      ]
    },
    {
      "cell_type": "markdown",
      "metadata": {
        "id": "8WdJ1dlVyb_o"
      },
      "source": [
        "###  Supervised Learning Models\n",
        "**The following are some of the supervised learning models that are currently available in** [`scikit-learn`](http://scikit-learn.org/stable/supervised_learning.html) **that you may choose from:**\n",
        "- Gaussian Naive Bayes (GaussianNB)\n",
        "- Decision Trees\n",
        "- Ensemble Methods (Bagging, AdaBoost, Random Forest, Gradient Boosting)\n",
        "- K-Nearest Neighbors (KNeighbors)\n",
        "- Stochastic Gradient Descent Classifier (SGDC)\n",
        "- Support Vector Machines (SVM)\n",
        "- Logistic Regression"
      ]
    },
    {
      "cell_type": "markdown",
      "metadata": {
        "id": "TTjv0Cxvyb_o"
      },
      "source": [
        "### Question 2 - Model Application\n",
        "List three of the supervised learning models above that are appropriate for this problem that you will test on the census data. For each model chosen\n",
        "\n",
        "- Describe one real-world application in industry where the model can be applied. \n",
        "- What are the strengths of the model; when does it perform well?\n",
        "- What are the weaknesses of the model; when does it perform poorly?\n",
        "- What makes this model a good candidate for the problem, given what you know about the data?\n",
        "\n",
        "** HINT: **\n",
        "\n",
        "Structure your answer in the same format as above^, with 4 parts for each of the three models you pick. Please include references with your answer."
      ]
    },
    {
      "cell_type": "markdown",
      "metadata": {
        "id": "0b1_CJcoyb_p"
      },
      "source": [
        "**Answer: **\n",
        "\n",
        "\n",
        "1.   **Decision Tree (DT)**\n",
        "\n",
        "\n",
        "*   DT has many application in engineering like intrusion detection in computer networks [1].  DT  can learn normal and anomalous patterns from  the training data and create a classifier to detect intrusion attacks.\n",
        "*   The strength of DT is the reduced computation and its ability to handle both continuous and categorical variables\n",
        "*   One major disadvantage of DT is its unstability compared to other classifiers, where a small variation in the data can change  the structure tree\n",
        "*   DT is a proper model for the problen in hand since a lot of the features are categorical and DT handles this type well\n",
        "\n",
        "\n",
        "\n",
        "[1] Li, Xiangyang and Ye, Nong, \"Decision Tree Classifiers for Computer Intrusion Detection\", Real-Time System Security, pp. 77–93, {17}, 2003\n",
        "\n",
        "\n",
        "2.   **Support Vector Machines (SVM):**\n",
        "\n",
        "\n",
        "*   SVM has many applications in wireless communication and computer networks including the channel prediction in high-speed railway communication systems [2], and routing in wireless sensor networks [3]. In the former, SVM is used for fast time-varying channel prediction in time-varying networks, while in the later SVM is used  as a clustering protocol that assigns the sensor nodes to the nearest cluster with the objective of balancing the energy consumption of the cluster heads. \n",
        "*   The strength of SVM is its ability to work in  high dimensional spaces and works  well when there is an understandable margin between classes.\n",
        "*    SVM is not suitable for large data sets or when the target classes are overlapping.\n",
        "*     SVM works very well for binary classification problems, which is the case in our problem since the income has two possible states (<=50K  &  >50K)\n",
        "\n",
        "[2] Z. Dong, Y. Zhao and Z. Chen, \"Support vector machine for channel prediction in high-speed railway communication systems,\" 2018 IEEE MTT-S International Wireless Symposium (IWS), 2018, pp. 1-3, doi: 10.1109/IEEE-IWS.2018.8400912.\n",
        "[3] F. Khan, S. Memon and S. H. Jokhio, \"Support vector machine based energy aware routing in wireless sensor networks,\" 2016 2nd International Conference on Robotics and Artificial Intelligence (ICRAI), 2016, pp. 1-4, doi: 10.1109/ICRAI.2016.7791218.\n",
        "\n",
        "\n",
        "\n",
        "\n",
        "3.   **Ensemble Methods (AdaBoost)**\n",
        "\n",
        "*   AdaBoost as one of the ensemble methods has many application including modulation  type recognition [4] and Path Loss Prediction [5], and Spectrum Hole Detection for Cognitive Radio Networks [6].\n",
        "*   The strength of AdaBoost is  that it is  less prone to overfitting as the input parameters are not jointly optimized\n",
        "*   The disadvantage of AdaBoost is its sensitive to outliers and noise in data, which mandates elimination of these factors before using the data\n",
        "*    Adaboost can work well for binary classification problems, which makes it suitable for the problem in hand\n",
        "\n",
        "[4] H. Ben Chikha, \"Performance of AdaBoost in modulation recognition for spatially-correlated cooperative MIMO systems,\" 2018 IEEE Wireless Communications and Networking Conference (WCNC), 2018, pp. 1-6, doi: 10.1109/WCNC.2018.8377377.\n",
        "[5] J. Wen, Y. Zhang, G. Yang, Z. He and W. Zhang, \"Path Loss Prediction Based on Machine Learning Methods for Aircraft Cabin Environments,\" in IEEE Access, vol. 7, pp. 159251-159261, 2019, doi: 10.1109/ACCESS.2019.2950634.\n",
        "[6] A. Mishra, V. Dehalwar, J. H. Jobanputra and M. Lal Kolhe, \"Spectrum Hole Detection for Cognitive Radio through Energy Detection using Random Forest,\" 2020 International Conference for Emerging Technology (INCET), 2020, pp. 1-7, doi: 10.1109/INCET49848.2020.9154097.\n",
        "\n",
        "\n",
        "\n",
        "\n",
        "\n",
        "\n"
      ]
    },
    {
      "cell_type": "markdown",
      "metadata": {
        "id": "QBboU7GOyb_p"
      },
      "source": [
        "### Implementation - Creating a Training and Predicting Pipeline\n",
        "To properly evaluate the performance of each model you've chosen, it's important that you create a training and predicting pipeline that allows you to quickly and effectively train models using various sizes of training data and perform predictions on the testing data. Your implementation here will be used in the following section.\n",
        "In the code block below, you will need to implement the following:\n",
        " - Import `fbeta_score` and `accuracy_score` from [`sklearn.metrics`](http://scikit-learn.org/stable/modules/classes.html#sklearn-metrics-metrics).\n",
        " - Fit the learner to the sampled training data and record the training time.\n",
        " - Perform predictions on the test data `X_test`, and also on the first 300 training points `X_train[:300]`.\n",
        "   - Record the total prediction time.\n",
        " - Calculate the accuracy score for both the training subset and testing set.\n",
        " - Calculate the F-score for both the training subset and testing set.\n",
        "   - Make sure that you set the `beta` parameter!"
      ]
    },
    {
      "cell_type": "code",
      "execution_count": 33,
      "metadata": {
        "collapsed": true,
        "id": "rxxuKFLOyb_p"
      },
      "outputs": [],
      "source": [
        "# TODO: Import two metrics from sklearn - fbeta_score and accuracy_score\n",
        "from sklearn.metrics import fbeta_score, accuracy_score\n",
        "\n",
        "def train_predict(learner, sample_size, X_train, y_train, X_test, y_test): \n",
        "    '''\n",
        "    inputs:\n",
        "       - learner: the learning algorithm to be trained and predicted on\n",
        "       - sample_size: the size of samples (number) to be drawn from training set\n",
        "       - X_train: features training set\n",
        "       - y_train: income training set\n",
        "       - X_test: features testing set\n",
        "       - y_test: income testing set\n",
        "    '''\n",
        "    \n",
        "    results = {}\n",
        "    \n",
        "    # TODO: Fit the learner to the training data using slicing with 'sample_size' using .fit(training_features[:], training_labels[:])\n",
        "    start = time() # Get start time\n",
        "    learner = learner.fit(X_train[:sample_size], y_train[:sample_size])\n",
        "    # or \n",
        "    # learner = learner.fit(X_train.head(sample_size), y_train.head(sample_size))\n",
        "    end = time() # Get end time\n",
        "    \n",
        "    # TODO: Calculate the training time\n",
        "    results['train_time'] = end - start\n",
        "        \n",
        "    # TODO: Get the predictions on the test set(X_test),\n",
        "    #       then get predictions on the first 300 training samples(X_train) using .predict()\n",
        "    start = time() # Get start time\n",
        "    predictions_test = learner.predict(X_test)\n",
        "    predictions_train = learner.predict(X_train[:300])\n",
        "    end = time() # Get end time\n",
        "    \n",
        "    # TODO: Calculate the total prediction time\n",
        "    results['pred_time'] = end - start\n",
        "            \n",
        "    # TODO: Compute accuracy on the first 300 training samples which is y_train[:300]\n",
        "    results['acc_train'] = accuracy_score(y_train[:300],predictions_train)\n",
        "        \n",
        "    # TODO: Compute accuracy on test set using accuracy_score()\n",
        "    results['acc_test'] = accuracy_score(y_test,predictions_test)\n",
        "    \n",
        "    # TODO: Compute F-score on the the first 300 training samples using fbeta_score()\n",
        "    results['f_train'] = fbeta_score(y_train[:300], predictions_train, beta=0.5)\n",
        "        \n",
        "    # TODO: Compute F-score on the test set which is y_test\n",
        "    results['f_test'] = fbeta_score(y_test,predictions_test, beta=0.5)\n",
        "       \n",
        "    # Success\n",
        "    print(\"{} trained on {} samples.\".format(learner.__class__.__name__, sample_size))\n",
        "        \n",
        "    # Return the results\n",
        "    return results"
      ]
    },
    {
      "cell_type": "markdown",
      "metadata": {
        "id": "e77CMfFZyb_q"
      },
      "source": [
        "### Implementation: Initial Model Evaluation\n",
        "In the code cell, you will need to implement the following:\n",
        "- Import the three supervised learning models you've discussed in the previous section.\n",
        "- Initialize the three models and store them in `'clf_A'`, `'clf_B'`, and `'clf_C'`.\n",
        "  - Use a `'random_state'` for each model you use, if provided.\n",
        "  - **Note:** Use the default settings for each model — you will tune one specific model in a later section.\n",
        "- Calculate the number of records equal to 1%, 10%, and 100% of the training data.\n",
        "  - Store those values in `'samples_1'`, `'samples_10'`, and `'samples_100'` respectively.\n",
        "\n",
        "**Note:** Depending on which algorithms you chose, the following implementation may take some time to run!"
      ]
    },
    {
      "cell_type": "code",
      "execution_count": 34,
      "metadata": {
        "collapsed": true,
        "colab": {
          "base_uri": "https://localhost:8080/",
          "height": 820
        },
        "id": "kkNhNbSNyb_q",
        "outputId": "95c875b8-a300-4929-b2aa-b7b9f04890ac"
      },
      "outputs": [
        {
          "output_type": "stream",
          "name": "stdout",
          "text": [
            "DecisionTreeClassifier trained on 361 samples.\n",
            "DecisionTreeClassifier trained on 3617 samples.\n",
            "DecisionTreeClassifier trained on 36177 samples.\n",
            "SVC trained on 361 samples.\n",
            "SVC trained on 3617 samples.\n",
            "SVC trained on 36177 samples.\n",
            "AdaBoostClassifier trained on 361 samples.\n",
            "AdaBoostClassifier trained on 3617 samples.\n",
            "AdaBoostClassifier trained on 36177 samples.\n"
          ]
        },
        {
          "output_type": "stream",
          "name": "stderr",
          "text": [
            "/content/visuals.py:121: UserWarning: Tight layout not applied. tight_layout cannot make axes width small enough to accommodate all axes decorations\n",
            "  pl.tight_layout()\n"
          ]
        },
        {
          "output_type": "display_data",
          "data": {
            "text/plain": [
              "<Figure size 792x576 with 6 Axes>"
            ],
            "image/png": "[encoded data removed]"
          },
          "metadata": {
            "needs_background": "light"
          }
        }
      ],
      "source": [
        "# TODO: Import the three supervised learning models from sklearn\n",
        "from sklearn.tree import DecisionTreeClassifier\n",
        "from sklearn.svm import SVC\n",
        "from sklearn.ensemble import AdaBoostClassifier\n",
        "\n",
        "# TODO: Initialize the three models\n",
        "\n",
        "clf_A = DecisionTreeClassifier(random_state=0)\n",
        "clf_B = SVC(random_state=0)\n",
        "clf_C = AdaBoostClassifier(random_state=0)\n",
        "\n",
        "# TODO: Calculate the number of samples for 1%, 10%, and 100% of the training data\n",
        "# HINT: samples_100 is the entire training set i.e. len(y_train)\n",
        "# HINT: samples_10 is 10% of samples_100 (ensure to set the count of the values to be `int` and not `float`)\n",
        "# HINT: samples_1 is 1% of samples_100 (ensure to set the count of the values to be `int` and not `float`)\n",
        "samples_100 = int(len(y_train))\n",
        "samples_10 = int(0.1*samples_100)\n",
        "samples_1 = int(0.01*samples_100)\n",
        "\n",
        "# Collect results on the learners\n",
        "results = {}\n",
        "for clf in [clf_A, clf_B, clf_C]:\n",
        "    clf_name = clf.__class__.__name__\n",
        "    results[clf_name] = {}\n",
        "    for i, samples in enumerate([samples_1, samples_10, samples_100]):\n",
        "        results[clf_name][i] = \\\n",
        "        train_predict(clf, samples, X_train, y_train, X_test, y_test)\n",
        "\n",
        "# Run metrics visualization for the three supervised learning models chosen\n",
        "vs.evaluate(results, accuracy, fscore)"
      ]
    },
    {
      "cell_type": "markdown",
      "metadata": {
        "id": "P4Xrd3Utyb_q"
      },
      "source": [
        "----\n",
        "## Improving Results\n",
        "In this final section, you will choose from the three supervised learning models the *best* model to use on the student data. You will then perform a grid search optimization for the model over the entire training set (`X_train` and `y_train`) by tuning at least one parameter to improve upon the untuned model's F-score. "
      ]
    },
    {
      "cell_type": "markdown",
      "metadata": {
        "id": "2zSOMQzIyb_r"
      },
      "source": [
        "### Question 3 - Choosing the Best Model\n",
        "\n",
        "* Based on the evaluation you performed earlier, in one to two paragraphs, explain to *CharityML* which of the three models you believe to be most appropriate for the task of identifying individuals that make more than \\$50,000. \n",
        "\n",
        "** HINT: ** \n",
        "Look at the graph at the bottom left from the cell above(the visualization created by `vs.evaluate(results, accuracy, fscore)`) and check the F score for the testing set when 100% of the training set is used. Which model has the highest score? Your answer should include discussion of the:\n",
        "* metrics - F score on the testing when 100% of the training data is used, \n",
        "* prediction/training time\n",
        "* the algorithm's suitability for the data."
      ]
    },
    {
      "cell_type": "markdown",
      "metadata": {
        "id": "dGHJImceyb_r"
      },
      "source": [
        "**Answer: **\n",
        "\n",
        "\n",
        "*   By investigating the three selected classifier, it is noteworthy that the f_score on testing of the AdaBoost Classifier is higher than the other two classifiers with approximate f_score = 0.75 on 100% of the training data.\n",
        "*   Additionally, both training  and testing time are much lower than the other two classifiers. Moreover, the prediction (testing) time is very small compared to training.\n",
        "*    The selected algorithm without optimization achieved 0.75 f_score, which indicates that the solution is suitable of the case under investigation. Adaboost can work well for binary classification problems, which makes it suitable for the problem in hand\n",
        "\n"
      ]
    },
    {
      "cell_type": "markdown",
      "metadata": {
        "id": "9TEskytZyb_r"
      },
      "source": [
        "### Question 4 - Describing the Model in Layman's Terms\n",
        "\n",
        "* In one to two paragraphs, explain to *CharityML*, in layman's terms, how the final model chosen is supposed to work. Be sure that you are describing the major qualities of the model, such as how the model is trained and how the model makes a prediction. Avoid using advanced mathematical jargon, such as describing equations.\n",
        "\n",
        "** HINT: **\n",
        "\n",
        "When explaining your model, if using external resources please include all citations."
      ]
    },
    {
      "cell_type": "markdown",
      "metadata": {
        "id": "skCNjBkPyb_s"
      },
      "source": [
        "**Answer: ** \n",
        "\n",
        "\n",
        "*   AdaBoost (Adaptive Boosting) is an ensemble modelling technique, which improve the prediction power by converting a number of weak learners to strong learners [7]. The main principle behind boosting algorithms is to build a model on the training dataset, then a second model is built to rectify the errors of the first model. This process continues until the errors are minimized, and the dataset is predicted correctly.\n",
        "*   The word \"Adaptive\" means that the weights are re-assigned to each new model, with higher weights assigned to incorrectly classified samples [8].\n",
        "*   It makes ‘n’  decision trees (DT) classifiers during the data training phase. As the first DT model is obtained, the incorrectly classified samples is given priority. Only these records are sent as input for the second DT model. The process goes on until we specify a number of base learners we want to create [8]. The following figure shows the procedure\n",
        "![image.png](data:image/png;base64,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)\n",
        "\n",
        "[7] https://www.analyticsvidhya.com/blog/2021/09/adaboost-algorithm-a-complete-guide-for-beginners/\n",
        "\n",
        "[8] https://www.mygreatlearning.com/blog/adaboost-algorithm/\n",
        "\n"
      ]
    },
    {
      "cell_type": "markdown",
      "metadata": {
        "id": "mOlUAehKyb_s"
      },
      "source": [
        "### Implementation: Model Tuning\n",
        "Fine tune the chosen model. Use grid search (`GridSearchCV`) with at least one important parameter tuned with at least 3 different values. You will need to use the entire training set for this. In the code cell below, you will need to implement the following:\n",
        "- Import [`sklearn.grid_search.GridSearchCV`](http://scikit-learn.org/0.17/modules/generated/sklearn.grid_search.GridSearchCV.html) and [`sklearn.metrics.make_scorer`](http://scikit-learn.org/stable/modules/generated/sklearn.metrics.make_scorer.html).\n",
        "- Initialize the classifier you've chosen and store it in `clf`.\n",
        " - Set a `random_state` if one is available to the same state you set before.\n",
        "- Create a dictionary of parameters you wish to tune for the chosen model.\n",
        " - Example: `parameters = {'parameter' : [list of values]}`.\n",
        " - **Note:** Avoid tuning the `max_features` parameter of your learner if that parameter is available!\n",
        "- Use `make_scorer` to create an `fbeta_score` scoring object (with $\\beta = 0.5$).\n",
        "- Perform grid search on the classifier `clf` using the `'scorer'`, and store it in `grid_obj`.\n",
        "- Fit the grid search object to the training data (`X_train`, `y_train`), and store it in `grid_fit`.\n",
        "\n",
        "**Note:** Depending on the algorithm chosen and the parameter list, the following implementation may take some time to run!"
      ]
    },
    {
      "cell_type": "code",
      "execution_count": null,
      "metadata": {
        "collapsed": true,
        "id": "WPq3mAANyb_t"
      },
      "outputs": [],
      "source": [
        "# TODO: Import 'GridSearchCV', 'make_scorer', and any other necessary libraries\n",
        "\n",
        "# TODO: Initialize the classifier\n",
        "clf = None\n",
        "\n",
        "# TODO: Create the parameters list you wish to tune, using a dictionary if needed.\n",
        "# HINT: parameters = {'parameter_1': [value1, value2], 'parameter_2': [value1, value2]}\n",
        "parameters = None\n",
        "\n",
        "# TODO: Make an fbeta_score scoring object using make_scorer()\n",
        "scorer = None\n",
        "\n",
        "# TODO: Perform grid search on the classifier using 'scorer' as the scoring method using GridSearchCV()\n",
        "grid_obj = None\n",
        "\n",
        "# TODO: Fit the grid search object to the training data and find the optimal parameters using fit()\n",
        "grid_fit = None\n",
        "\n",
        "# Get the estimator\n",
        "best_clf = grid_fit.best_estimator_\n",
        "\n",
        "# Make predictions using the unoptimized and model\n",
        "predictions = (clf.fit(X_train, y_train)).predict(X_test)\n",
        "best_predictions = best_clf.predict(X_test)\n",
        "\n",
        "# Report the before-and-afterscores\n",
        "print(\"Unoptimized model\\n------\")\n",
        "print(\"Accuracy score on testing data: {:.4f}\".format(accuracy_score(y_test, predictions)))\n",
        "print(\"F-score on testing data: {:.4f}\".format(fbeta_score(y_test, predictions, beta = 0.5)))\n",
        "print(\"\\nOptimized Model\\n------\")\n",
        "print(\"Final accuracy score on the testing data: {:.4f}\".format(accuracy_score(y_test, best_predictions)))\n",
        "print(\"Final F-score on the testing data: {:.4f}\".format(fbeta_score(y_test, best_predictions, beta = 0.5)))"
      ]
    },
    {
      "cell_type": "markdown",
      "metadata": {
        "id": "tZ-fmvv5yb_t"
      },
      "source": [
        "### Question 5 - Final Model Evaluation\n",
        "\n",
        "* What is your optimized model's accuracy and F-score on the testing data? \n",
        "* Are these scores better or worse than the unoptimized model? \n",
        "* How do the results from your optimized model compare to the naive predictor benchmarks you found earlier in **Question 1**?_  \n",
        "\n",
        "**Note:** Fill in the table below with your results, and then provide discussion in the **Answer** box."
      ]
    },
    {
      "cell_type": "markdown",
      "metadata": {
        "id": "NHXwblIpyb_t"
      },
      "source": [
        "#### Results:\n",
        "\n",
        "|     Metric     | Unoptimized Model | Optimized Model |\n",
        "| :------------: | :---------------: | :-------------: | \n",
        "| Accuracy Score |                   |                 |\n",
        "| F-score        |                   |   EXAMPLE       |\n"
      ]
    },
    {
      "cell_type": "markdown",
      "metadata": {
        "id": "_8Sh4gCIyb_t"
      },
      "source": [
        "**Answer: **"
      ]
    },
    {
      "cell_type": "markdown",
      "metadata": {
        "id": "-__dImlCyb_u"
      },
      "source": [
        "----\n",
        "## Feature Importance\n",
        "\n",
        "An important task when performing supervised learning on a dataset like the census data we study here is determining which features provide the most predictive power. By focusing on the relationship between only a few crucial features and the target label we simplify our understanding of the phenomenon, which is most always a useful thing to do. In the case of this project, that means we wish to identify a small number of features that most strongly predict whether an individual makes at most or more than \\$50,000.\n",
        "\n",
        "Choose a scikit-learn classifier (e.g., adaboost, random forests) that has a `feature_importance_` attribute, which is a function that ranks the importance of features according to the chosen classifier.  In the next python cell fit this classifier to training set and use this attribute to determine the top 5 most important features for the census dataset."
      ]
    },
    {
      "cell_type": "markdown",
      "metadata": {
        "id": "RA2lMDBLyb_u"
      },
      "source": [
        "### Question 6 - Feature Relevance Observation\n",
        "When **Exploring the Data**, it was shown there are thirteen available features for each individual on record in the census data. Of these thirteen records, which five features do you believe to be most important for prediction, and in what order would you rank them and why?"
      ]
    },
    {
      "cell_type": "markdown",
      "metadata": {
        "id": "Qz_s0LEGyb_u"
      },
      "source": [
        "**Answer:**"
      ]
    },
    {
      "cell_type": "markdown",
      "metadata": {
        "id": "V6iLPN-5yb_v"
      },
      "source": [
        "### Implementation - Extracting Feature Importance\n",
        "Choose a `scikit-learn` supervised learning algorithm that has a `feature_importance_` attribute availble for it. This attribute is a function that ranks the importance of each feature when making predictions based on the chosen algorithm.\n",
        "\n",
        "In the code cell below, you will need to implement the following:\n",
        " - Import a supervised learning model from sklearn if it is different from the three used earlier.\n",
        " - Train the supervised model on the entire training set.\n",
        " - Extract the feature importances using `'.feature_importances_'`."
      ]
    },
    {
      "cell_type": "code",
      "execution_count": null,
      "metadata": {
        "collapsed": true,
        "id": "kt8Si9Ouyb_v"
      },
      "outputs": [],
      "source": [
        "# TODO: Import a supervised learning model that has 'feature_importances_'\n",
        "\n",
        "\n",
        "# TODO: Train the supervised model on the training set using .fit(X_train, y_train)\n",
        "model = None\n",
        "\n",
        "# TODO: Extract the feature importances using .feature_importances_ \n",
        "importances = None\n",
        "\n",
        "# Plot\n",
        "vs.feature_plot(importances, X_train, y_train)"
      ]
    },
    {
      "cell_type": "markdown",
      "metadata": {
        "id": "NjJ14e-9yb_v"
      },
      "source": [
        "### Question 7 - Extracting Feature Importance\n",
        "\n",
        "Observe the visualization created above which displays the five most relevant features for predicting if an individual makes at most or above \\$50,000.  \n",
        "* How do these five features compare to the five features you discussed in **Question 6**?\n",
        "* If you were close to the same answer, how does this visualization confirm your thoughts? \n",
        "* If you were not close, why do you think these features are more relevant?"
      ]
    },
    {
      "cell_type": "markdown",
      "metadata": {
        "id": "RW3GNo9dyb_v"
      },
      "source": [
        "**Answer:**"
      ]
    },
    {
      "cell_type": "markdown",
      "metadata": {
        "id": "dLoh_2ksyb_w"
      },
      "source": [
        "### Feature Selection\n",
        "How does a model perform if we only use a subset of all the available features in the data? With less features required to train, the expectation is that training and prediction time is much lower — at the cost of performance metrics. From the visualization above, we see that the top five most important features contribute more than half of the importance of **all** features present in the data. This hints that we can attempt to *reduce the feature space* and simplify the information required for the model to learn. The code cell below will use the same optimized model you found earlier, and train it on the same training set *with only the top five important features*. "
      ]
    },
    {
      "cell_type": "code",
      "execution_count": null,
      "metadata": {
        "collapsed": true,
        "id": "UYnrnljUyb_w"
      },
      "outputs": [],
      "source": [
        "# Import functionality for cloning a model\n",
        "from sklearn.base import clone\n",
        "\n",
        "# Reduce the feature space\n",
        "X_train_reduced = X_train[X_train.columns.values[(np.argsort(importances)[::-1])[:5]]]\n",
        "X_test_reduced = X_test[X_test.columns.values[(np.argsort(importances)[::-1])[:5]]]\n",
        "\n",
        "# Train on the \"best\" model found from grid search earlier\n",
        "clf = (clone(best_clf)).fit(X_train_reduced, y_train)\n",
        "\n",
        "# Make new predictions\n",
        "reduced_predictions = clf.predict(X_test_reduced)\n",
        "\n",
        "# Report scores from the final model using both versions of data\n",
        "print(\"Final Model trained on full data\\n------\")\n",
        "print(\"Accuracy on testing data: {:.4f}\".format(accuracy_score(y_test, best_predictions)))\n",
        "print(\"F-score on testing data: {:.4f}\".format(fbeta_score(y_test, best_predictions, beta = 0.5)))\n",
        "print(\"\\nFinal Model trained on reduced data\\n------\")\n",
        "print(\"Accuracy on testing data: {:.4f}\".format(accuracy_score(y_test, reduced_predictions)))\n",
        "print(\"F-score on testing data: {:.4f}\".format(fbeta_score(y_test, reduced_predictions, beta = 0.5)))"
      ]
    },
    {
      "cell_type": "markdown",
      "metadata": {
        "id": "KoEMHF4Myb_x"
      },
      "source": [
        "### Question 8 - Effects of Feature Selection\n",
        "\n",
        "* How does the final model's F-score and accuracy score on the reduced data using only five features compare to those same scores when all features are used?\n",
        "* If training time was a factor, would you consider using the reduced data as your training set?"
      ]
    },
    {
      "cell_type": "markdown",
      "metadata": {
        "id": "2pYSIynMyb_x"
      },
      "source": [
        "**Answer:**"
      ]
    },
    {
      "cell_type": "markdown",
      "metadata": {
        "id": "wuLTYpDayb_x"
      },
      "source": [
        "> **Note**: Once you have completed all of the code implementations and successfully answered each question above, you may finalize your work by exporting the iPython Notebook as an HTML document. You can do this by using the menu above and navigating to  \n",
        "**File -> Download as -> HTML (.html)**. Include the finished document along with this notebook as your submission."
      ]
    }
  ],
  "metadata": {
    "kernelspec": {
      "display_name": "Python 3",
      "language": "python",
      "name": "python3"
    },
    "language_info": {
      "codemirror_mode": {
        "name": "ipython",
        "version": 3
      },
      "file_extension": ".py",
      "mimetype": "text/x-python",
      "name": "python",
      "nbconvert_exporter": "python",
      "pygments_lexer": "ipython3",
      "version": "3.6.1"
    },
    "colab": {
      "name": "finding_donors.ipynb",
      "provenance": []
    }
  },
  "nbformat": 4,
  "nbformat_minor": 0
}